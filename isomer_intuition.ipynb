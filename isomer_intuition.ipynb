{
 "cells": [
  {
   "cell_type": "code",
   "execution_count": 24,
   "metadata": {},
   "outputs": [],
   "source": [
    "import numpy as np\n",
    "import matplotlib.pyplot as plt\n",
    "\n",
    "%matplotlib inline"
   ]
  },
  {
   "cell_type": "code",
   "execution_count": 25,
   "metadata": {},
   "outputs": [],
   "source": [
    "t9_0 = 0.2\n",
    "rho_0 = 1e+3 #g/cc\n",
    "den_frac = 0.5"
   ]
  },
  {
   "cell_type": "code",
   "execution_count": 26,
   "metadata": {},
   "outputs": [
    {
     "data": {
      "text/plain": [
       "\"plt.figure(figsize = (13.66,7.68))\\nplt.rcParams['font.size'] = 18\\nplt.plot(t,t9)\\nplt.xlabel('Time (s)')\\nplt.ylabel(r'$T_{9}$')\\nplt.figure(figsize = (13.66,7.68))\\nplt.rcParams['font.size'] = 18\\nplt.plot(t,rho)\\nplt.xlabel('Time (s)')\\nplt.ylabel(r'$\\rho$ 10^{3} g/cc')\\nplt.show()\\n\""
      ]
     },
     "execution_count": 26,
     "metadata": {},
     "output_type": "execute_result"
    }
   ],
   "source": [
    "t = np.linspace(0,100,1000)\n",
    "t9 = t9_0*(1 - t9_0*np.sin(2*np.pi*t/10))\n",
    "\n",
    "rho = den_frac*rho_0*np.power(t9,3)\n",
    "lambda_decay = 0.001\n",
    "lambda_excite = 0.001\n",
    "'''plt.figure(figsize = (13.66,7.68))\n",
    "plt.rcParams['font.size'] = 18\n",
    "plt.plot(t,t9)\n",
    "plt.xlabel('Time (s)')\n",
    "plt.ylabel(r'$T_{9}$')\n",
    "plt.figure(figsize = (13.66,7.68))\n",
    "plt.rcParams['font.size'] = 18\n",
    "plt.plot(t,rho)\n",
    "plt.xlabel('Time (s)')\n",
    "plt.ylabel(r'$\\rho$ 10^{3} g/cc')\n",
    "plt.show()\n",
    "'''"
   ]
  },
  {
   "cell_type": "code",
   "execution_count": null,
   "metadata": {},
   "outputs": [],
   "source": [
    "def f1(y_85_m_dt,y_85_g_dt,y_85_m,dt,lamda_dec,lambda_ex):\n",
    "    return y"
   ]
  },
  {
   "cell_type": "code",
   "execution_count": 27,
   "metadata": {},
   "outputs": [
    {
     "data": {
      "image/png": "[encoded data removed]",
      "text/plain": [
       "<Figure size 432x288 with 1 Axes>"
      ]
     },
     "metadata": {
      "needs_background": "light"
     },
     "output_type": "display_data"
    }
   ],
   "source": [
    "y_kr85g = np.empty(len(t))\n",
    "y_kr85m = np.empty(len(t))\n",
    "\n",
    "y_kr85g[0] = 0.75\n",
    "y_kr85m[0] = 0.25\n",
    "\n",
    "dt = t[1] - t[0]\n",
    "\n",
    "for i in range (1,len(t)):\n",
    "    y_kr85g[i] = y_kr85g[i-1] + dt*(lambda_decay*y_kr85g[i-1] - lambda_excite*y_kr85m[i-1])\n",
    "    y_kr85m[i] = y_kr85m[i-1] + dt*(lambda_excite*y_kr85g[i-1] - lambda_decay*y_kr85m[i-1])\n",
    "\n",
    "plt.figure()\n",
    "plt.plot(t,y_kr85m)\n",
    "plt.plot(t,y_kr85g)\n",
    "plt.plot(t,y_kr85g+y_kr85m)\n",
    "plt.show()"
   ]
  }
 ],
 "metadata": {
  "interpreter": {
   "hash": "31f2aee4e71d21fbe5cf8b01ff0e069b9275f58929596ceb00d14d90e3e16cd6"
  },
  "kernelspec": {
   "display_name": "Python 3.9.7 64-bit",
   "name": "python3"
  },
  "language_info": {
   "codemirror_mode": {
    "name": "ipython",
    "version": 3
   },
   "file_extension": ".py",
   "mimetype": "text/x-python",
   "name": "python",
   "nbconvert_exporter": "python",
   "pygments_lexer": "ipython3",
   "version": "3.9.7"
  },
  "orig_nbformat": 4
 },
 "nbformat": 4,
 "nbformat_minor": 2
}
