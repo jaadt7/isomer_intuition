{
 "cells": [
  {
   "cell_type": "code",
   "execution_count": 5,
   "metadata": {},
   "outputs": [],
   "source": [
    "import numpy as np\n",
    "import matplotlib.pyplot as plt\n",
    "\n",
    "%matplotlib inline\n",
    "\n",
    "kb = 8.61733262e-5 #Boltzmann constant in ev K^{-1}"
   ]
  },
  {
   "cell_type": "markdown",
   "metadata": {},
   "source": [
    "recallable definitions for calculations of multiple runs"
   ]
  },
  {
   "cell_type": "code",
   "execution_count": 6,
   "metadata": {},
   "outputs": [],
   "source": [
    "def param_calc(t9_0,rho_0,lambda_decay_0,lambda_excite_0,kb,den_frac,t,flag,energy):\n",
    "    if (flag == 'constant'):\n",
    "        t9 = t9_0*np.ones(len(t))\n",
    "        lambda_decay = lambda_decay_0*np.ones(len(t))\n",
    "        lambda_excite = lambda_excite_0*np.ones(len(t))\n",
    "        rho = rho_0*np.ones(len(t))\n",
    "    elif (flag == 'sinusoidal'):\n",
    "        t9 = t9_0*(1 - t9_0*np.sin(2*np.pi*t/10))\n",
    "        rho = den_frac*rho_0*np.power(t9,3)\n",
    "        lambda_decay = lambda_decay_0*np.exp(-energy/(kb*t9*1e+9))\n",
    "        lambda_excite = lambda_excite_0*np.exp(-energy/(kb*t9*1e+9))\n",
    "    return t9,rho,lambda_decay,lambda_excite\n",
    "\n",
    "def f1(y_85_m_dt,y_85_g_dt,y_85_m,dt,lambda_dec,lambda_ex):\n",
    "    return y_85_m_dt*(1+lambda_dec*dt) - dt*lambda_ex*y_85_g_dt - y_85_m\n",
    "    \n",
    "def f2(y_85_m_dt,y_85_g_dt,y_85_g,dt,lambda_dec,lambda_ex):\n",
    "    return y_85_g_dt*(1+dt*lambda_ex) - dt*lambda_dec*y_85_m_dt-y_85_g\n",
    "\n",
    "def nef_raf_solver(lbda_ex,lbda_dec,t,y1,y2,y1_dt,y2_dt,y11,y22,tol):\n",
    "    dt = t[1] - t[0]\n",
    "    n_tot = len(t)\n",
    "    for i in range(1,n_tot):\n",
    "        delta = np.ones(2)\n",
    "        A = np.array([[1 + lbda_dec[i]*dt, -dt*lbda_ex[i] ],[-lbda_dec[i]*dt, 1 + lbda_ex[i]]])\n",
    "        while (abs(max(delta)) > tol):\n",
    "            b = np.array([-f1(y1_dt,y2_dt,y1,dt,lbda_dec[i],lbda_ex[i]),\n",
    "            -f2(y1_dt,y2_dt,y2,dt,lbda_dec[i],lbda_ex[i])])\n",
    "            delta = np.linalg.solve(A,b)\n",
    "            y1_dt += delta[0]\n",
    "            y2_dt += delta[0]\n",
    "        y1 = y1_dt\n",
    "        y2 = y2_dt\n",
    "        \n",
    "        y11 = np.append(y11,y1)\n",
    "        y22 = np.append(y22,y2)\n",
    "\n",
    "    return y11,y22"
   ]
  },
  {
   "cell_type": "markdown",
   "metadata": {},
   "source": [
    "Cell of parameters that govern the whole run"
   ]
  },
  {
   "cell_type": "code",
   "execution_count": 7,
   "metadata": {},
   "outputs": [],
   "source": [
    "tol = 1e-6\n",
    "t9_0 = 0.2\n",
    "rho_0 = 1e+3 #g/cc\n",
    "den_frac = 0.5\n",
    "flag = 'constant'\n",
    "lambda_decay_0 = 0.001\n",
    "lambda_excite_0 = 0.001\n",
    "energy = 0\n",
    "t = np.linspace(0,100,1000)\n",
    "\n",
    "t9,rho,lambda_decay,lambda_excite = param_calc(t9_0,rho_0,lambda_decay_0,lambda_excite_0,kb,den_frac,t,flag,energy)"
   ]
  },
  {
   "cell_type": "code",
   "execution_count": 8,
   "metadata": {},
   "outputs": [
    {
     "data": {
      "image/png": "[encoded data removed]",
      "text/plain": [
       "<Figure size 983.52x565.92 with 1 Axes>"
      ]
     },
     "metadata": {
      "needs_background": "light"
     },
     "output_type": "display_data"
    }
   ],
   "source": [
    "#at time 0\n",
    "y_kr85_m = 0.25\n",
    "y_kr85_g = 0.75\n",
    "#initial guess\n",
    "y_kr85_m_dt = y_kr85_m\n",
    "y_kr85_g_dt = y_kr85_g\n",
    "\n",
    "y_kr85_m,y_kr85_g = nef_raf_solver(lambda_excite,lambda_decay,t,y_kr85_m,y_kr85_g,y_kr85_m,y_kr85_g,y_kr85_m,y_kr85_g,tol)\n",
    "\n",
    "plt.figure(figsize=[13.66,7.86])\n",
    "plt.plot(t,y_kr85_m,label = r'$Y(^{85}Kr_{m})$')\n",
    "plt.plot(t,y_kr85_g,label = r'$Y(^{85}Kr_{g})$')\n",
    "plt.plot(t,y_kr85_g+y_kr85_m, label = 'total')\n",
    "plt.ylabel('Y')\n",
    "plt.xlabel('time (s)')\n",
    "plt.legend()\n",
    "plt.show()"
   ]
  }
 ],
 "metadata": {
  "interpreter": {
   "hash": "31f2aee4e71d21fbe5cf8b01ff0e069b9275f58929596ceb00d14d90e3e16cd6"
  },
  "kernelspec": {
   "display_name": "Python 3.9.7 64-bit",
   "name": "python3"
  },
  "language_info": {
   "codemirror_mode": {
    "name": "ipython",
    "version": 3
   },
   "file_extension": ".py",
   "mimetype": "text/x-python",
   "name": "python",
   "nbconvert_exporter": "python",
   "pygments_lexer": "ipython3",
   "version": "3.9.7"
  },
  "orig_nbformat": 4
 },
 "nbformat": 4,
 "nbformat_minor": 2
}
